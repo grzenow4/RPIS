{
 "cells": [
  {
   "cell_type": "markdown",
   "metadata": {},
   "source": [
    "# Birthday paradox"
   ]
  },
  {
   "cell_type": "markdown",
   "metadata": {},
   "source": [
    "**Problem 1a.** During exercise session, we showed that for $d$ equally likely dates in a year and $n$ people, the probability of a repeat date is $p(n)=1-\\frac{d^\\underline{n}}{d^n}$. We also derived a simple approximate formula for this probability: $p_a(n) = 1-e^{-\\frac{n(n-1)}{2d}}$. In particular, this approximation implies that for $d=365$ dates, $p(n)$ is close to $\\frac{1}{2}$ for $n=23$.\n",
    "\n",
    "Verify how good the approximation is. To this end, write a program that computes the exact value of $p(n)$ as well as the value of the approximation $p_a(n)$ for $d=365$ and $n=1,\\ldots,60$. Plot the graphs of the two functions."
   ]
  },
  {
   "cell_type": "code",
   "execution_count": 22,
   "metadata": {},
   "outputs": [
    {
     "data": {
      "image/png": "[encoded data removed]",
      "text/plain": [
       "<Figure size 432x288 with 1 Axes>"
      ]
     },
     "metadata": {
      "needs_background": "light"
     },
     "output_type": "display_data"
    }
   ],
   "source": [
    "import math\n",
    "import matplotlib.pyplot as plt\n",
    "import random\n",
    "\n",
    "x = list()\n",
    "y = list()\n",
    "\n",
    "\n",
    "def fun(d, n):\n",
    "    res = 1/n\n",
    "    for i in range(n):\n",
    "        res *= d - i\n",
    "    res /= d ** n\n",
    "    return 1 - res\n",
    "\n",
    "\n",
    "def pa(d, n):\n",
    "    exp = (-1) * n * (n - 1) / (2 * d)\n",
    "    return 1 - math.e ** exp\n",
    "\n",
    "\n",
    "for i in range(60):\n",
    "    x.append(p(365, i + 1))\n",
    "    y.append(pa(365, i + 1))\n",
    "    \n",
    "plt.plot(x, y, label=\"p\")\n",
    "plt.show()"
   ]
  },
  {
   "cell_type": "markdown",
   "metadata": {},
   "source": [
    "**Problem 1b.**\n",
    "Implement a function, that chooses random dates out of $1,\\ldots,d$ until a repeat occurs. The function should return the number of the step in which that happened. Run the function $N=100\\,000$ times. \n",
    "    * Plot a histogram of the return values.\n",
    "    * Which return value seems most likely? \n",
    "    * What is the average of the return values?\n",
    "    * Is there any simple relation between these two numbers and the value $23$ in the previous problem?\n",
    "    * Is there any simple relation between the histogram obtained, and the plot in the previous problem?"
   ]
  },
  {
   "cell_type": "code",
   "execution_count": 3,
   "metadata": {},
   "outputs": [
    {
     "data": {
      "image/png": "[encoded data removed]",
      "text/plain": [
       "<Figure size 432x288 with 1 Axes>"
      ]
     },
     "metadata": {
      "needs_background": "light"
     },
     "output_type": "display_data"
    }
   ],
   "source": [
    "import matplotlib.pyplot as plt\n",
    "import random\n",
    "\n",
    "N = 100000\n",
    "l = list()\n",
    "\n",
    "\n",
    "def fun(d):\n",
    "    s = set()\n",
    "    i = 1\n",
    "    while True:\n",
    "        x = random.randint(1, d)\n",
    "        if x in s:\n",
    "            break\n",
    "        s.add(x)\n",
    "        i += 1\n",
    "    return i\n",
    "\n",
    "\n",
    "for i in range(N):\n",
    "    l.append(fun(365))\n",
    "    \n",
    "plt.hist(l, bins=88)\n",
    "plt.show()"
   ]
  },
  {
   "cell_type": "markdown",
   "metadata": {},
   "source": [
    "**Problem 1c.** Here we investigate how our analysis using the classical approach compares to a more empirical one. The file *us_births_69_88.csv* contains the counts for birthdates from 1969 to 1988. Only those births, for which the full date is known, are included in the file.\n",
    "    * Read the file.\n",
    "    * Investigate the data. Do you notice anything strange?\n",
    "    * Plot a heatmap of the data. Do you notice any significant deviations from the uniform assumption? Can you explain them?\n",
    "    * Implement a sampling function as in 1b, but this time using the supplied data. Compare the results."
   ]
  },
  {
   "cell_type": "code",
   "execution_count": 4,
   "metadata": {},
   "outputs": [
    {
     "name": "stderr",
     "output_type": "stream",
     "text": [
      "/tmp/ipykernel_2162/1291638892.py:23: MatplotlibDeprecationWarning: shading='flat' when X and Y have the same dimensions as C is deprecated since 3.3.  Either specify the corners of the quadrilaterals with X and Y, or pass shading='auto', 'nearest' or 'gouraud', or set rcParams['pcolor.shading'].  This will become an error two minor releases later.\n",
      "  plt.pcolor(days, months, births)\n"
     ]
    },
    {
     "data": {
      "image/png": "[encoded data removed]",
      "text/plain": [
       "<Figure size 432x288 with 1 Axes>"
      ]
     },
     "metadata": {
      "needs_background": "light"
     },
     "output_type": "display_data"
    }
   ],
   "source": [
    "import matplotlib.pyplot as plt\n",
    "import numpy as np\n",
    "import pandas as pd\n",
    "\n",
    "stats = np.loadtxt(\"us_births_69_88.csv\", skiprows=1, delimiter=',', dtype=int)\n",
    "\n",
    "days = []\n",
    "months = []\n",
    "births = []\n",
    "\n",
    "for i in range(31):\n",
    "    days.append(i + 1)\n",
    "    \n",
    "for i in range(12):\n",
    "    months.append(i + 1)\n",
    "    \n",
    "for i in range(12):\n",
    "    X = []\n",
    "    for j in range(31):\n",
    "        X.append(stats[i * 31 + j][2])\n",
    "    births.append(X)\n",
    "\n",
    "plt.pcolor(days, months, births)\n",
    "plt.show()"
   ]
  },
  {
   "cell_type": "code",
   "execution_count": null,
   "metadata": {},
   "outputs": [],
   "source": []
  }
 ],
 "metadata": {
  "kernelspec": {
   "display_name": "Python 3 (ipykernel)",
   "language": "python",
   "name": "python3"
  },
  "language_info": {
   "codemirror_mode": {
    "name": "ipython",
    "version": 3
   },
   "file_extension": ".py",
   "mimetype": "text/x-python",
   "name": "python",
   "nbconvert_exporter": "python",
   "pygments_lexer": "ipython3",
   "version": "3.10.2"
  }
 },
 "nbformat": 4,
 "nbformat_minor": 1
}
