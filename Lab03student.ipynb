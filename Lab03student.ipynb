{
 "cells": [
  {
   "cell_type": "markdown",
   "metadata": {},
   "source": [
    "# Mean and standard deviation"
   ]
  },
  {
   "cell_type": "markdown",
   "metadata": {},
   "source": [
    "**Problem 3c.** We are now going to investigate an intermediate case - a variable with a finite mean, but no variance. Consider a discrete variable $Y$ with the following distribution: $P(Y=k) = \\frac{1}{|k|(|k|+1)(|k|+2)}$ for $k \\neq 0$ and $P(Y=0) = \\frac{1}{2}$. \n",
    " * Argue that these formulas indeed describe a discrete distribution.\n",
    " * Show that $EY=0$, but $Y$ has no variation (i.e. the defining series is not absolutely convergent).\n",
    " * Plot the function $f(k) = P(Y=k)$ for $k \\in [-10,10]$.\n",
    " * Write a function that samples from $Y$'s distribution.\n",
    " * Generate $N=10\\,000$ values $y_1,\\ldots,y_n$ from the distribution.\n",
    " * For $i \\in \\{1,\\ldots,n\\}$ compute $\\bar{y}_i = \\frac{y_1+\\ldots+y_i}{i}$. \n",
    " * Plot the values of $\\bar{y}_i$. Does it look like the series converges?\n",
    " * For $i \\in \\{1,\\ldots,n\\}$ compute $\\hat{y}_i = \\textrm{ median of }\\{y_1,\\ldots,y_i\\}$.\n",
    " * Plot the values of $\\hat{y}_i$.\n",
    " * Discuss the results obtained."
   ]
  },
  {
   "cell_type": "markdown",
   "metadata": {},
   "source": [
    "Policzmy sumę prawdopodobieństw. Jeśli wyjdzie 1 to Y ma rozkład dyskretny. Policzmy najpierw dla $k>0$:\n",
    "$$\\sum_{k=1}^\\infty P(Y=k)=\\sum_{k=1}^\\infty\\frac{1}{k(k+1)(k+2)}=\\frac{1}{2}\\sum_{k=1}^\\infty\\left(\\frac{1}{k(k+1)}-\\frac{1}{(k+1)(k+2)}\\right)=\\frac{1}{2}\\cdot\\frac{1}{2}=\\frac{1}{4}.$$\n",
    "Teraz policzmy sumę dla $k<0$:\n",
    "$$\\sum_{k=1}^\\infty P(Y=-k)=\\sum_{k=1}^\\infty\\frac{1}{k(k+1)(k+2)}=\\frac{1}{2}\\sum_{k=1}^\\infty\\left(\\frac{1}{k(k+1)}-\\frac{1}{(k+1)(k+2)}\\right)=\\frac{1}{2}\\cdot\\frac{1}{2}=\\frac{1}{4}.$$\n",
    "Widzimy, że $\\sum_{k=1}^\\infty P(Y=k)+\\sum_{k=1}^\\infty P(Y=-k)+P(Y=0)=\\frac{1}{4}+\\frac{1}{4}+\\frac{1}{2}=1$, czyli Y ma rozkład dyskretny. Policzmy EY:\n",
    "$$EY=\\sum_{k=1}^\\infty\\frac{k}{k(k+1)(k+2)}+\\sum_{k=1}^\\infty\\frac{-k}{k(k+1)(k+2)}+0\\cdot\\frac{1}{2}=\\sum_{k=1}^\\infty\\frac{1}{(k+1)(k+2)}+\\sum_{k=1}^\\infty\\frac{-1}{(k+1)(k+2)}=\\frac{1}{2}-\\frac{1}{2}=0.$$\n",
    "Policzmy wariancję Y:\n",
    "$$Var=EY^2-(EY)^2=\\sum_{k=1}^\\infty\\frac{k^2}{k(k+1)(k+2)}-0^2=\\sum_{k=1}^\\infty\\frac{k}{(k+1)(k+2)}\\sim\\sum_{k=1}^\\infty\\frac{1}{k}=+\\infty.$$\n",
    "Ponieważ szereg jest rozbieżny, to Y nie ma wariancji."
   ]
  },
  {
   "cell_type": "code",
   "execution_count": 6,
   "metadata": {},
   "outputs": [],
   "source": [
    "import math\n",
    "import matplotlib.pyplot as plt\n",
    "import numpy as np\n",
    "\n",
    "%matplotlib inline"
   ]
  },
  {
   "cell_type": "code",
   "execution_count": 7,
   "metadata": {},
   "outputs": [
    {
     "data": {
      "image/png": "[encoded data removed]",
      "text/plain": [
       "<Figure size 432x288 with 1 Axes>"
      ]
     },
     "metadata": {
      "needs_background": "light"
     },
     "output_type": "display_data"
    }
   ],
   "source": [
    "def f(k):\n",
    "    if k == 0:\n",
    "        return 0.5\n",
    "    return 1 / (abs(k) * (abs(k) + 1) * (abs(k) + 2))\n",
    "\n",
    "\n",
    "x1 = np.arange(-10, 11)\n",
    "y1 = np.vectorize(f)(x1)\n",
    "\n",
    "plt.plot(x1, y1)\n",
    "plt.show()"
   ]
  },
  {
   "cell_type": "code",
   "execution_count": 8,
   "metadata": {},
   "outputs": [
    {
     "data": {
      "image/png": "[encoded data removed]",
      "text/plain": [
       "<Figure size 432x288 with 1 Axes>"
      ]
     },
     "metadata": {
      "needs_background": "light"
     },
     "output_type": "display_data"
    }
   ],
   "source": [
    "N = 10000\n",
    "\n",
    "\n",
    "def cube_throw():\n",
    "    val = np.random.randint(1, 5)\n",
    "\n",
    "    if val == 1:\n",
    "        return -1\n",
    "    elif val == 4:\n",
    "        return 1\n",
    "    else:\n",
    "        return 0\n",
    "\n",
    "\n",
    "def find_k(x):\n",
    "    k = 0\n",
    "    while x >= 0:\n",
    "        k += 1\n",
    "        x -= 4 * f(x)\n",
    "\n",
    "    return k\n",
    "\n",
    "\n",
    "def sample():\n",
    "    x = np.random.uniform(0, 1)\n",
    "    return cube_throw() * find_k(x)\n",
    "\n",
    "\n",
    "xs = np.arange(1, N + 1)\n",
    "y = np.array([sample() for i in xs])\n",
    "y_sum = np.cumsum(y)\n",
    "means = y_sum / xs\n",
    "\n",
    "plt.plot(means)\n",
    "plt.show()"
   ]
  },
  {
   "cell_type": "code",
   "execution_count": 9,
   "metadata": {},
   "outputs": [
    {
     "data": {
      "image/png": "[encoded data removed]",
      "text/plain": [
       "<Figure size 432x288 with 1 Axes>"
      ]
     },
     "metadata": {
      "needs_background": "light"
     },
     "output_type": "display_data"
    }
   ],
   "source": [
    "med = [np.median(y[:i]) for i in xs]\n",
    "\n",
    "plt.plot(med)\n",
    "plt.show()"
   ]
  },
  {
   "cell_type": "code",
   "execution_count": null,
   "metadata": {},
   "outputs": [],
   "source": []
  }
 ],
 "metadata": {
  "kernelspec": {
   "display_name": "Python 3 (ipykernel)",
   "language": "python",
   "name": "python3"
  },
  "language_info": {
   "codemirror_mode": {
    "name": "ipython",
    "version": 3
   },
   "file_extension": ".py",
   "mimetype": "text/x-python",
   "name": "python",
   "nbconvert_exporter": "python",
   "pygments_lexer": "ipython3",
   "version": "3.10.2"
  }
 },
 "nbformat": 4,
 "nbformat_minor": 1
}
