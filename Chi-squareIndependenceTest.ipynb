{
 "cells": [
  {
   "cell_type": "markdown",
   "metadata": {},
   "source": [
    "**Problem 5c (Chi-square independence test).** \n",
    "You are given the results of IPSOS exit polls for 2015 parliamentary elections in Poland in table **data**. Decide if we can assume that gender has no effect on voting preferences. To this end:\n",
    " * Compute row totals $r_i$, column totals $c_j$, and overall total $N$.\n",
    " * If the variables are independent, we expect to see $f_{ij} = r_i c_j / N$ in $i$-th row $j$-th column.\n",
    " * Compute the test statistic as before, i.e. $$ S = \\sum_{ij} \\frac{\\left(f_{ij}-X_{ij}\\right)^2}{f_{ij}}.$$\n",
    " * Again test vs $\\chi^2$ CDF. However, if the variables are independent, we only have $(r-1)(c-1)$ degrees of freedom here (we only need to know the row and column totals).\n",
    " * One obvious offender is the KORWiN party, try removing the last column and repeating the experiment.\n",
    " \n",
    "**Note:** This kind of data is (to the best of our knowledge) not available online. It has been recreated based on\n",
    "online infographics and other tidbits of information available online. It is definitely not completely accurate, hopefully it is not very far off. Moreover, exit polls do not necessary reflect the actual distribution of the population."
   ]
  },
  {
   "cell_type": "code",
   "execution_count": 22,
   "metadata": {},
   "outputs": [
    {
     "name": "stdout",
     "output_type": "stream",
     "text": [
      "Czy wyniki wyborów są niezależne od płci?\n",
      "Wyniki wyborów nie są niezależne od płci.\n",
      "\n",
      "Czy wyniki wyborów bez partii KORWiN są niezależne od płci?\n",
      "Wyniki wyborów nie są niezależne od płci.\n"
     ]
    }
   ],
   "source": [
    "import numpy as np\n",
    "from scipy import stats\n",
    "# Rows: women, men\n",
    "# Columns: PiS, PO, Kukiz, Nowoczesna, Lewica, PSL, Razem, KORWiN\n",
    "#data = np.array([ [39.7,26.4,7.5,7.1,6.6,5.0,4.2,2.8], \n",
    "#                  [38.5,20.3,10.6,7.1,6.6,5.4,3.5,7.1]])\n",
    "data = np.array([[ 17508, 11642,  3308,  3131,  2911,  2205,  1852, 1235],\n",
    " [ 17672,  9318,  4865,  3259,  3029,  2479,  1606, 3259]])\n",
    "data_without_KORWiN = data[:, :-1]\n",
    "\n",
    "\n",
    "def calc(data):\n",
    "    rows = len(data)\n",
    "    columns = len(data[0])\n",
    "    total_sum = np.sum(data)\n",
    "    row_sum = np.sum(data, axis=1)\n",
    "    col_sum = np.sum(data, axis=0)\n",
    "    k = 0\n",
    "    \n",
    "    for i in range(rows):\n",
    "        for j in range(columns):\n",
    "            expected = row_sum[i] * col_sum[j] / total_sum\n",
    "            actual = data[i][j]\n",
    "            k += ((actual - expected) ** 2) / expected\n",
    "            \n",
    "    return 1 - stats.chi2.cdf(k, (rows - 1) * (columns - 1))\n",
    "\n",
    "\n",
    "alpha = 0.05\n",
    "\n",
    "print(\"Czy wyniki wyborów są niezależne od płci?\")\n",
    "if calc(data) > alpha:\n",
    "    print(\"Brak podstaw do odrzucenia tezy.\")\n",
    "else:\n",
    "    print(\"Wyniki wyborów nie są niezależne od płci.\")\n",
    "\n",
    "print()\n",
    "\n",
    "print(\"Czy wyniki wyborów bez partii KORWiN są niezależne od płci?\")\n",
    "if calc(data_without_KORWiN) > alpha:\n",
    "    print(\"Brak podstaw do odrzucenia tezy.\")\n",
    "else:\n",
    "    print(\"Wyniki wyborów nie są niezależne od płci.\")"
   ]
  }
 ],
 "metadata": {
  "kernelspec": {
   "display_name": "Python 3 (ipykernel)",
   "language": "python",
   "name": "python3"
  },
  "language_info": {
   "codemirror_mode": {
    "name": "ipython",
    "version": 3
   },
   "file_extension": ".py",
   "mimetype": "text/x-python",
   "name": "python",
   "nbconvert_exporter": "python",
   "pygments_lexer": "ipython3",
   "version": "3.10.2"
  }
 },
 "nbformat": 4,
 "nbformat_minor": 1
}
